{
 "cells": [
  {
   "cell_type": "code",
   "execution_count": 21,
   "id": "7ac28dc981b07f07",
   "metadata": {
    "collapsed": false,
    "ExecuteTime": {
     "end_time": "2024-04-02T04:47:29.144991300Z",
     "start_time": "2024-04-02T04:47:29.109188500Z"
    }
   },
   "outputs": [],
   "source": [
    "# Automatic File Naming Utility\n",
    "from output_util import OutputUtil\n",
    "import pandas as pd\n",
    "\n",
    "outputUtil = OutputUtil()"
   ]
  },
  {
   "cell_type": "markdown",
   "id": "1a5d473dcc262985",
   "metadata": {
    "collapsed": false
   },
   "source": [
    "# Populations Merge"
   ]
  },
  {
   "cell_type": "code",
   "execution_count": 22,
   "id": "e2100272c6284984",
   "metadata": {
    "collapsed": false,
    "ExecuteTime": {
     "end_time": "2024-04-02T04:47:29.159164900Z",
     "start_time": "2024-04-02T04:47:29.145987500Z"
    }
   },
   "outputs": [],
   "source": [
    "from globals import POPULATION_OUTPUT_PATH\n",
    "\n",
    "pop_df = pd.read_csv(POPULATION_OUTPUT_PATH)\n",
    "df = pop_df\n",
    "df.to_csv(outputUtil.generate_output_filepath(desc=\"population\"), index=False)"
   ]
  },
  {
   "cell_type": "markdown",
   "id": "91b911213bb82f57",
   "metadata": {
    "collapsed": false
   },
   "source": [
    "# Land Merge"
   ]
  },
  {
   "cell_type": "code",
   "execution_count": 23,
   "id": "35f670f0a6b3f174",
   "metadata": {
    "collapsed": false,
    "ExecuteTime": {
     "end_time": "2024-04-02T04:47:29.198579500Z",
     "start_time": "2024-04-02T04:47:29.156625400Z"
    }
   },
   "outputs": [],
   "source": [
    "from globals import LAND_OUTPUT_PATH\n",
    "\n",
    "land_df = pd.read_csv(LAND_OUTPUT_PATH)\n",
    "\n",
    "df = pd.read_csv(outputUtil.get_curr_filepath())\n",
    "df = pd.merge(df, land_df, on='Region')\n",
    "\n",
    "df.to_csv(outputUtil.generate_output_filepath(desc=\"land\"), index=False)"
   ]
  },
  {
   "cell_type": "markdown",
   "id": "9c42f93dda0b17e5",
   "metadata": {
    "collapsed": false
   },
   "source": [
    "# Fiscal Merge"
   ]
  },
  {
   "cell_type": "code",
   "execution_count": 24,
   "id": "6dbe67a6ebd02c00",
   "metadata": {
    "collapsed": false,
    "ExecuteTime": {
     "end_time": "2024-04-02T04:47:29.199093400Z",
     "start_time": "2024-04-02T04:47:29.171636Z"
    }
   },
   "outputs": [],
   "source": [
    "from globals import FISCAL_OUTPUT_PATH\n",
    "\n",
    "fiscal_df = pd.read_csv(FISCAL_OUTPUT_PATH)\n",
    "\n",
    "df = pd.read_csv(outputUtil.get_curr_filepath())\n",
    "\n",
    "df = pd.merge(df, fiscal_df, on=[\"Year\", \"Region\"])\n",
    "df.to_csv(outputUtil.generate_output_filepath(desc=\"population\"), index=False)"
   ]
  },
  {
   "cell_type": "markdown",
   "id": "691c3f80ddf5c8de",
   "metadata": {
    "collapsed": false
   },
   "source": [
    "# Housing Merge"
   ]
  },
  {
   "cell_type": "code",
   "execution_count": 25,
   "id": "aea1eb3fc1e5592f",
   "metadata": {
    "collapsed": false,
    "ExecuteTime": {
     "end_time": "2024-04-02T04:47:29.200121500Z",
     "start_time": "2024-04-02T04:47:29.189026200Z"
    }
   },
   "outputs": [],
   "source": [
    "# TODO Housing does not work\n",
    "\n",
    "# housing_df = pd.read_csv(output_files_map[\"housing\"])\n",
    "# \n",
    "# df = pd.read_csv(outputUtil.get_curr_filepath())\n",
    "# df = pd.merge(df, housing_df, on='Year')\n",
    "# \n",
    "# df.to_csv(outputUtil.generate_output_filepath(desc=\"housing\"), index=False)"
   ]
  },
  {
   "cell_type": "markdown",
   "id": "d2080160b12557a5",
   "metadata": {
    "collapsed": false
   },
   "source": [
    "# GDP Merge"
   ]
  },
  {
   "cell_type": "code",
   "execution_count": 26,
   "id": "c3af1e378c9b1356",
   "metadata": {
    "collapsed": false,
    "ExecuteTime": {
     "end_time": "2024-04-02T04:47:29.224596400Z",
     "start_time": "2024-04-02T04:47:29.194067900Z"
    }
   },
   "outputs": [],
   "source": [
    "from globals import GDP_OUTPUT_PATH\n",
    "\n",
    "gdp_df = pd.read_csv(GDP_OUTPUT_PATH)\n",
    "\n",
    "df = pd.read_csv(outputUtil.get_curr_filepath())\n",
    "df = pd.merge(df, gdp_df, on='Year')\n",
    "\n",
    "df.to_csv(outputUtil.generate_output_filepath(desc=\"gdp\"), index=False)"
   ]
  },
  {
   "cell_type": "markdown",
   "id": "d3289810d581ce18",
   "metadata": {
    "collapsed": false
   },
   "source": [
    "# Inflation Merge"
   ]
  },
  {
   "cell_type": "code",
   "execution_count": 27,
   "id": "286defe4f6c8039c",
   "metadata": {
    "collapsed": false,
    "ExecuteTime": {
     "end_time": "2024-04-02T04:47:29.236675800Z",
     "start_time": "2024-04-02T04:47:29.219072600Z"
    }
   },
   "outputs": [],
   "source": [
    "from globals import INFLATION_OUTPUT_PATH\n",
    "\n",
    "inflation_df = pd.read_csv(INFLATION_OUTPUT_PATH)\n",
    "\n",
    "df = pd.read_csv(outputUtil.get_curr_filepath())\n",
    "df = pd.merge(df, inflation_df, on=\"Year\")\n",
    "\n",
    "df.to_csv(outputUtil.generate_output_filepath(desc=\"inflation\"), index=False)"
   ]
  },
  {
   "cell_type": "markdown",
   "source": [
    "# Tax Rates Merge"
   ],
   "metadata": {
    "collapsed": false
   },
   "id": "f4eea9f7823f9ea9"
  },
  {
   "cell_type": "code",
   "outputs": [],
   "source": [
    "from globals import TAXRATES_OUTPUT_PATH\n",
    "\n",
    "taxrates_df = pd.read_csv(TAXRATES_OUTPUT_PATH)\n",
    "\n",
    "df = pd.read_csv(outputUtil.get_curr_filepath())\n",
    "df = pd.merge(df, taxrates_df, on=[\"Year\", \"Region\"])\n",
    "\n",
    "df.to_csv(outputUtil.generate_output_filepath(desc=\"taxrates\"), index=False)"
   ],
   "metadata": {
    "collapsed": false,
    "ExecuteTime": {
     "end_time": "2024-04-02T04:47:29.267201600Z",
     "start_time": "2024-04-02T04:47:29.241811300Z"
    }
   },
   "id": "c4b8e00360000db5",
   "execution_count": 28
  },
  {
   "cell_type": "markdown",
   "source": [
    "# Minimum Wage Merge"
   ],
   "metadata": {
    "collapsed": false
   },
   "id": "15337c9a519f7b9f"
  },
  {
   "cell_type": "code",
   "outputs": [],
   "source": [
    "from globals import MINWAGE_OUTPUT_PATH\n",
    "\n",
    "minwage_df = pd.read_csv(MINWAGE_OUTPUT_PATH)\n",
    "\n",
    "df = pd.read_csv(outputUtil.get_curr_filepath())\n",
    "df = pd.merge(df, minwage_df, on=[\"Year\"])\n",
    "\n",
    "df.to_csv(outputUtil.generate_output_filepath(desc=\"minwage\"), index=False)"
   ],
   "metadata": {
    "collapsed": false,
    "ExecuteTime": {
     "end_time": "2024-04-02T04:47:29.284680500Z",
     "start_time": "2024-04-02T04:47:29.265203800Z"
    }
   },
   "id": "f6fe6ecb7c8cc570",
   "execution_count": 29
  },
  {
   "cell_type": "markdown",
   "id": "c08aa6a4c5f8b66",
   "metadata": {
    "collapsed": false
   },
   "source": [
    "# Final Output of the Notebook"
   ]
  },
  {
   "cell_type": "code",
   "execution_count": 30,
   "id": "421e23a4",
   "metadata": {
    "ExecuteTime": {
     "end_time": "2024-04-02T04:47:29.314001900Z",
     "start_time": "2024-04-02T04:47:29.289220900Z"
    }
   },
   "outputs": [],
   "source": [
    "df = pd.read_csv(outputUtil.get_curr_filepath())\n",
    "df.to_csv(outputUtil.get_final_filepath(), index=False)"
   ]
  }
 ],
 "metadata": {
  "kernelspec": {
   "display_name": "Python 3 (ipykernel)",
   "language": "python",
   "name": "python3"
  },
  "language_info": {
   "codemirror_mode": {
    "name": "ipython",
    "version": 3
   },
   "file_extension": ".py",
   "mimetype": "text/x-python",
   "name": "python",
   "nbconvert_exporter": "python",
   "pygments_lexer": "ipython3",
   "version": "3.12.2"
  }
 },
 "nbformat": 4,
 "nbformat_minor": 5
}
